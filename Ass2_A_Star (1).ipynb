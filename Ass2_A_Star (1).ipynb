{
 "cells": [
  {
   "cell_type": "code",
   "execution_count": 48,
   "id": "16739160",
   "metadata": {},
   "outputs": [
    {
     "name": "stdout",
     "output_type": "stream",
     "text": [
      "Path found: ['Home', 'Bank', 'Police Station', 'University']\n"
     ]
    },
    {
     "data": {
      "text/plain": [
       "['Home', 'Bank', 'Police Station', 'University']"
      ]
     },
     "execution_count": 48,
     "metadata": {},
     "output_type": "execute_result"
    }
   ],
   "source": [
    "def A_Star(initial_node, goal_node):\n",
    "    OPEN = {initial_node}  # Fix: use curly braces for a set\n",
    "    CLOSE = set()\n",
    "    g = {}  # store distance from starting node to current node\n",
    "    parents = {}  # parents contain an adjacency map of all nodes\n",
    "    g[initial_node] = 0\n",
    "    parents[initial_node] = initial_node\n",
    "\n",
    "    while len(OPEN) > 0:\n",
    "        n = None\n",
    "        for v in OPEN:\n",
    "            if n is None or g[v] + heuristic(v) < g[n] + heuristic(n):  #so n will be Home,school,bank,police_station and university\n",
    "                n = v\n",
    "        if n == goal_node or Graph_nodes[n] is None:\n",
    "            pass\n",
    "        else:\n",
    "            for (m, weight) in get_neighbors(n): # m is node and weight is value e.g m= bank weight=45\n",
    "                if m not in OPEN and m not in CLOSE:\n",
    "                    OPEN.add(m)\n",
    "                    parents[m] = n\n",
    "                    g[m] = g[n] + weight # e.g)     g(bank) = g(home)(0)+home-bank(45)   \n",
    "                else:\n",
    "                    if g[m] > g[n] + weight:\n",
    "                        g[m] = g[n] + weight\n",
    "                        parents[m] = n\n",
    "                        if m in CLOSE:\n",
    "                            CLOSE.remove(m)\n",
    "                            OPEN.add(m)\n",
    "\n",
    "        if n is None:\n",
    "            print('Path does not exist!')\n",
    "            return None\n",
    "        \n",
    "        if n == goal_node:\n",
    "            path = []\n",
    "            while parents[n] != n:\n",
    "                path.append(n)\n",
    "                n = parents[n]   #university,police station,bank\n",
    "            path.append(initial_node)\n",
    "            path.reverse()\n",
    "            print('Path found: {}'.format(path))\n",
    "            return path\n",
    "        OPEN.remove(n)\n",
    "        CLOSE.add(n)\n",
    "    print('Path does not exist!')\n",
    "    print(g)\n",
    "    return None\n",
    "\n",
    "\n",
    "def get_neighbors(v):\n",
    "    if v in Graph_nodes:\n",
    "        #print(\"graph nodes =>\",v) # v => Home,school,bank,police station.\n",
    "        #print(Graph_nodes[v])\n",
    "        return Graph_nodes[v] # it return the chield node(neighbors) of parents node that is v here.\n",
    "    else:\n",
    "        return None\n",
    "\n",
    "def heuristic(n):\n",
    "    H_dist = {\n",
    "        'Home': 120,\n",
    "        'Bank': 80,\n",
    "        'Garden': 100,\n",
    "        'School': 70,\n",
    "        'Police Station': 26,\n",
    "        'Railway Station': 20,\n",
    "        'Post Office': 110,\n",
    "        'University': 0  # Add University with heuristic value\n",
    "    }\n",
    "\n",
    "    return H_dist[n]\n",
    "\n",
    "Graph_nodes = {\n",
    "    'Home': [('Bank', 45), ('Garden', 40), ('School', 50)],\n",
    "    'Bank': [('Police Station', 60)],\n",
    "    'Garden': [('Railway Station', 72)],\n",
    "    'School': [('Railway Station', 75), ('Post Office', 59)],\n",
    "    'Police Station': [('University', 28)],\n",
    "    'Railway Station': [('University', 40)],\n",
    "    'Post Office': None,\n",
    "    'University': []  # Add University with an empty list of neighbors\n",
    "}\n",
    "\n",
    "A_Star('Home', 'University')"
   ]
  },
  {
   "cell_type": "raw",
   "id": "47585d74",
   "metadata": {},
   "source": [
    "g[n] 0\n",
    "weight=> 45\n",
    "g[n] 0\n",
    "weight=> 40\n",
    "g[n] 0\n",
    "weight=> 50\n",
    "g[n] 50\n",
    "weight=> 75\n",
    "g[n] 50\n",
    "weight=> 59\n",
    "g[n] 45\n",
    "weight=> 60\n",
    "g[n] 105\n",
    "weight=> 28"
   ]
  },
  {
   "cell_type": "raw",
   "id": "6b6b8f7f",
   "metadata": {},
   "source": [
    "'''\n",
    "OPEN List  => {'Home'}\n",
    "Close List => set()\n",
    "OPEN List  => {'Garden', 'Bank', 'School'}\n",
    "Close List => {'Home'}\n",
    "OPEN List  => {'Garden', 'Post Office', 'Bank', 'Railway Station'}\n",
    "Close List => {'Home', 'School'}\n",
    "OPEN List  => {'Garden', 'Post Office', 'Police Station', 'Railway Station'}\n",
    "Close List => {'Bank', 'Home', 'School'}\n",
    "OPEN List  => {'Garden', 'Post Office', 'University', 'Railway Station'}\n",
    "Close List => {'Bank', 'Home', 'School', 'Police Station'}\n",
    "'''"
   ]
  },
  {
   "cell_type": "raw",
   "id": "7bcf8bd0",
   "metadata": {},
   "source": [
    "in open list => {'Garden', 'Post Office', 'University', 'Railway Station'}\n",
    "in close list => {'Bank', 'Home', 'School', 'Police Station'}"
   ]
  },
  {
   "cell_type": "raw",
   "id": "4961d2a2",
   "metadata": {},
   "source": [
    "g is => {'Home': 0, 'Bank': 45, 'Garden': 40, 'School': 50, 'Railway Station': 125, 'Post Office': 109, 'Police Station': 105, 'University': 133}"
   ]
  },
  {
   "cell_type": "raw",
   "id": "b2e25ca8",
   "metadata": {},
   "source": [
    "parents are => {'Home': 'Home', 'Bank': 'Home', 'Garden': 'Home', 'School': 'Home', 'Railway Station': 'School', 'Post Office': 'School', 'Police Station': 'Bank', 'University': 'Police Station'}"
   ]
  },
  {
   "cell_type": "code",
   "execution_count": null,
   "id": "f0b07d6e",
   "metadata": {},
   "outputs": [],
   "source": [
    "n=> University\n",
    "parents of n=> Police Station\n",
    "n=> Police Station\n",
    "parents of n=> Bank\n",
    "n=> Bank\n",
    "parents of n=> Home"
   ]
  },
  {
   "cell_type": "raw",
   "id": "915e0ee2",
   "metadata": {},
   "source": [
    "'''\n",
    "OPEN=> {'Garden', 'Bank', 'Home', 'School'}\n",
    "CLOSE=> set()\n",
    "OPEN=> {'Garden', 'Post Office', 'Bank', 'School', 'Railway Station'}\n",
    "CLOSE=> {'Home'}\n",
    "OPEN=> {'Garden', 'Post Office', 'Police Station', 'Bank', 'Railway Station'}\n",
    "CLOSE=> {'Home', 'School'}\n",
    "OPEN=> {'Garden', 'Post Office', 'Police Station', 'University', 'Railway Station'}\n",
    "CLOSE=> {'Bank', 'Home', 'School'}"
   ]
  }
 ],
 "metadata": {
  "kernelspec": {
   "display_name": "Python 3 (ipykernel)",
   "language": "python",
   "name": "python3"
  },
  "language_info": {
   "codemirror_mode": {
    "name": "ipython",
    "version": 3
   },
   "file_extension": ".py",
   "mimetype": "text/x-python",
   "name": "python",
   "nbconvert_exporter": "python",
   "pygments_lexer": "ipython3",
   "version": "3.11.5"
  }
 },
 "nbformat": 4,
 "nbformat_minor": 5
}
