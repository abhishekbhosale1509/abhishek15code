{
 "cells": [
  {
   "cell_type": "code",
   "execution_count": 1,
   "id": "2d5fb42a",
   "metadata": {},
   "outputs": [
    {
     "name": "stdout",
     "output_type": "stream",
     "text": [
      "Plaintext: 00101000\n",
      "Initial Key: 1100011110\n",
      "K1: 11101001\n",
      "K2: 10100111\n"
     ]
    }
   ],
   "source": [
    "def permute(original, permutation):\n",
    "    permuted = ''  \n",
    "    for index in permutation:\n",
    "        permuted += original[index - 1]  \n",
    "    return permuted  \n",
    "\n",
    "def left_shift(bits, shifts):\n",
    "    shifted = bits[shifts:] + bits[:shifts]\n",
    "    return shifted\n",
    "\n",
    "def generate_keys(initial_key):\n",
    "    pc1 = [3, 5, 2, 7, 4, 10, 1, 9, 8, 6]  \n",
    "    pc2 = [6, 3, 7, 4, 8, 5, 10, 9]\n",
    "    key = permute(initial_key, pc1)\n",
    "    \n",
    "    left_half = key[:5]\n",
    "    right_half = key[5:]\n",
    "    \n",
    "    shifted_left_half = left_shift(left_half, 1)\n",
    "    shifted_right_half = left_shift(right_half, 1)\n",
    "    \n",
    "    shifted_key = shifted_left_half + shifted_right_half\n",
    "    k1 = permute(shifted_key, pc2)\n",
    "    \n",
    "    shifted_left_half = left_shift(shifted_left_half, 2)\n",
    "    shifted_right_half = left_shift(shifted_right_half, 2)\n",
    "    \n",
    "    shifted_key = shifted_left_half + shifted_right_half\n",
    "    k2 = permute(shifted_key, pc2)\n",
    "    \n",
    "    return k1, k2\n",
    "\n",
    "def main():\n",
    "    plaintext = \"00101000\"\n",
    "    initial_key = \"1100011110\"\n",
    "\n",
    "    k1, k2 = generate_keys(initial_key)\n",
    "    print(\"Plaintext:\", plaintext)\n",
    "    print(\"Initial Key:\", initial_key)\n",
    "    print(\"K1:\", k1)\n",
    "    print(\"K2:\", k2)\n",
    "\n",
    "if __name__ == \"__main__\":\n",
    "    main()\n"
   ]
  },
  {
   "cell_type": "code",
   "execution_count": null,
   "id": "d384ef87",
   "metadata": {},
   "outputs": [],
   "source": []
  }
 ],
 "metadata": {
  "kernelspec": {
   "display_name": "Python 3 (ipykernel)",
   "language": "python",
   "name": "python3"
  },
  "language_info": {
   "codemirror_mode": {
    "name": "ipython",
    "version": 3
   },
   "file_extension": ".py",
   "mimetype": "text/x-python",
   "name": "python",
   "nbconvert_exporter": "python",
   "pygments_lexer": "ipython3",
   "version": "3.11.3"
  }
 },
 "nbformat": 4,
 "nbformat_minor": 5
}
