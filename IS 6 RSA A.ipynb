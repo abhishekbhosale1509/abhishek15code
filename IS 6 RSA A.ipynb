{
 "cells": [
  {
   "cell_type": "code",
   "execution_count": 3,
   "id": "7ed5944a",
   "metadata": {},
   "outputs": [
    {
     "name": "stdout",
     "output_type": "stream",
     "text": [
      "Enter prime number p: 3\n",
      "Enter prime number q: 5\n",
      "Enter the public key value 'e': 3\n",
      "Enter the plaintext message: 8\n",
      "Public key (n, e) is: (15, 3)\n",
      "Private key (n, d) is: (15, 3)\n",
      "phi(n) is: 8\n",
      "Encrypted message (ciphertext) is: 2\n",
      "Decrypted message (plaintext) is: 8\n"
     ]
    }
   ],
   "source": [
    "import math\n",
    "from sympy import isprime\n",
    "\n",
    "def gcd(phi_n):\n",
    "    for i in range(2, phi_n):\n",
    "        if math.gcd(i, phi_n) == 1:\n",
    "            return i\n",
    "    return None\n",
    "\n",
    "def private_key(phi_n, e):\n",
    "    # Compute the modular multiplicative inverse\n",
    "    d = pow(e, -1, phi_n)\n",
    "    return d\n",
    "\n",
    "# Take input from users for prime numbers p and q\n",
    "p = int(input(\"Enter prime number p: \"))\n",
    "q = int(input(\"Enter prime number q: \"))\n",
    "\n",
    "# Check if the numbers are prime\n",
    "if isprime(p) and isprime(q):\n",
    "    n = p * q\n",
    "    phi_n = (p - 1) * (q - 1)\n",
    "\n",
    "    # Get public key 'e' from the user\n",
    "    e = int(input(\"Enter the public key value 'e': \"))\n",
    "\n",
    "    if math.gcd(e, phi_n) != 1:\n",
    "        raise ValueError(\"The chosen 'e' must be coprime with phi(n).\")\n",
    "\n",
    "    # Compute private key 'd'\n",
    "    d = private_key(phi_n, e)\n",
    "\n",
    "\n",
    "    # Encrypt and decrypt a plaintext message\n",
    "    plaintext = int(input(\"Enter the plaintext message: \"))\n",
    "    ciphertext = pow(plaintext, e, n)  # Encrypt with public key\n",
    "    decrypt_text = pow(ciphertext,d, n)  # Decrypt with private key\n",
    "\n",
    "\n",
    "    # Display results\n",
    "    print(\"Public key (n, e) is:\", (n, e))\n",
    "    print(\"Private key (n, d) is:\", (n, d))\n",
    "    print(\"phi(n) is:\", phi_n)\n",
    "    print(\"Encrypted message (ciphertext) is:\", ciphertext)\n",
    "    print(\"Decrypted message (plaintext) is:\", decrypt_text)\n",
    "\n",
    "else:\n",
    "    print(\"Please enter prime numbers for p and q.\")"
   ]
  },
  {
   "cell_type": "code",
   "execution_count": null,
   "id": "39c18c66",
   "metadata": {},
   "outputs": [],
   "source": []
  },
  {
   "cell_type": "code",
   "execution_count": null,
   "id": "f339defd",
   "metadata": {},
   "outputs": [],
   "source": []
  }
 ],
 "metadata": {
  "kernelspec": {
   "display_name": "Python 3 (ipykernel)",
   "language": "python",
   "name": "python3"
  },
  "language_info": {
   "codemirror_mode": {
    "name": "ipython",
    "version": 3
   },
   "file_extension": ".py",
   "mimetype": "text/x-python",
   "name": "python",
   "nbconvert_exporter": "python",
   "pygments_lexer": "ipython3",
   "version": "3.11.3"
  }
 },
 "nbformat": 4,
 "nbformat_minor": 5
}
